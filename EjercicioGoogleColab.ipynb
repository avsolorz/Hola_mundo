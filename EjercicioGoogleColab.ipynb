{
  "nbformat": 4,
  "nbformat_minor": 0,
  "metadata": {
    "colab": {
      "provenance": [],
      "authorship_tag": "ABX9TyOPP3tfqwkGTiQFDE9haHy9",
      "include_colab_link": true
    },
    "kernelspec": {
      "name": "python3",
      "display_name": "Python 3"
    },
    "language_info": {
      "name": "python"
    }
  },
  "cells": [
    {
      "cell_type": "markdown",
      "metadata": {
        "id": "view-in-github",
        "colab_type": "text"
      },
      "source": [
        "<a href=\"https://colab.research.google.com/github/avsolorz/Hola_mundo/blob/main/EjercicioGoogleColab.ipynb\" target=\"_parent\"><img src=\"https://colab.research.google.com/assets/colab-badge.svg\" alt=\"Open In Colab\"/></a>"
      ]
    },
    {
      "cell_type": "code",
      "execution_count": 2,
      "metadata": {
        "colab": {
          "base_uri": "https://localhost:8080/"
        },
        "id": "GN9qnQx14loI",
        "outputId": "8cd48a1b-8d82-4317-fe98-b85612906510"
      },
      "outputs": [
        {
          "output_type": "stream",
          "name": "stdout",
          "text": [
            "Ingrese su edad para saber a que grupo pertenece:\n",
            "65\n",
            "La edad de 65 pertenece al grupo ´momia´\n"
          ]
        }
      ],
      "source": [
        "#Validar rango de edades\n",
        "# 0 3   Bebé\n",
        "# 4 12  Niño\n",
        "# 13 17 Adolescente\n",
        "# 18 60 Adulto\n",
        "# 61    Anciano\n",
        "\n",
        "\n",
        "edad = int(input(\"Ingrese su edad para saber a que grupo pertenece:\\n\"))\n",
        "if edad >= 0 and edad <=3:\n",
        "    print(f\"La edad de {edad} pertenece al grupo `bebe`\")\n",
        "elif edad >= 4 and edad <= 12:\n",
        "    print(f\"La edad de {edad} pertenece al grupo ´niño´\")\n",
        "elif edad >= 13 and edad <= 17:\n",
        "    print(f\"La edad de {edad} pertenece al grupo ¨adolescente¨\")\n",
        "elif edad >= 18 and edad <= 60:\n",
        "    print(f\"La edad de {edad} pertenece al grupo ´Adulto´\")\n",
        "else:\n",
        "    print(f\"La edad de {edad} pertenece al grupo ´Momia´\")"
      ]
    },
    {
      "cell_type": "markdown",
      "source": [
        "Este programa nos indica a que grupo pertenece, según su edad que ingrese.\n"
      ],
      "metadata": {
        "id": "5NDlMsnT5XIz"
      }
    },
    {
      "cell_type": "code",
      "source": [
        "a = int(input(\"Ingrese el primer valor\\n:\"))\n",
        "b =  int(input(\"Ingrese el segundo valor\\n:\"))\n",
        "c = a + b #suma\n",
        "d = b - a #resta\n",
        "e = b * a # multiplicación\n",
        "f = b / a # division\n",
        "\n",
        "\n",
        "print (f\"Suma de {a} + {b} es igual a {c}\")\n",
        "print (f\"Resta de {b} - {a} es igual a {d}\")\n",
        "print (f\"Multiplicación de {b} * {a} es igual a {e}\")\n",
        "print (f\"Division de {b} / {a} es igual a {f}\")\n"
      ],
      "metadata": {
        "colab": {
          "base_uri": "https://localhost:8080/"
        },
        "id": "d8AKpCPH54vp",
        "outputId": "07f42cf2-5017-408e-c4b0-4cd38d5fd3ff"
      },
      "execution_count": 5,
      "outputs": [
        {
          "output_type": "stream",
          "name": "stdout",
          "text": [
            "Ingrese el primer valor\n",
            ":8\n",
            "Ingrese el segundo valor\n",
            ":25\n",
            "Suma de 8 + 25 es igual a 33\n",
            "Resta de 25 - 8 es igual a 17\n",
            "Multiplicación de 25 * 8 es igual a 200\n",
            "Division de 25 / 8 es igual a 3.125\n"
          ]
        }
      ]
    },
    {
      "cell_type": "markdown",
      "source": [
        " Este programa realiza las operaciones básicas (suma, resta, multiplicacion y division) de 2 valores que ingrese."
      ],
      "metadata": {
        "id": "-zXbuhDH6dg6"
      }
    }
  ]
}